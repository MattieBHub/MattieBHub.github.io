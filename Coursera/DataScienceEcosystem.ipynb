{
 "cells": [
  {
   "cell_type": "markdown",
   "id": "ed82f2f2-3397-4eb9-aa35-4243520e272f",
   "metadata": {
    "tags": []
   },
   "source": [
    "# Data Science Tools and Ecosystem"
   ]
  },
  {
   "cell_type": "markdown",
   "id": "afa9c243-e973-4dd7-bd3b-7e27b9567688",
   "metadata": {},
   "source": [
    "In this notebook, Data Science Tools and Ecosystem are summarized."
   ]
  },
  {
   "cell_type": "markdown",
   "id": "049cd378-c23d-4e57-aafd-e5e76840734d",
   "metadata": {
    "tags": []
   },
   "source": [
    "**Objectives**\n",
    "+ Popular Languages for Data Science\n",
    "+ Popular Libraries for Data Science\n",
    "+ Popular Tools for Data Science\n",
    "+ Examples of Python Code"
   ]
  },
  {
   "cell_type": "markdown",
   "id": "874bf53f-f349-4f22-87f9-a575a94a415f",
   "metadata": {},
   "source": [
    "Some of the popular languages that Data Scientists use are:\n",
    "1. Python\n",
    "2. Java\n",
    "3. SQL\n",
    "4. R"
   ]
  },
  {
   "cell_type": "markdown",
   "id": "637e001a-493c-41bc-90d0-30e31380845d",
   "metadata": {},
   "source": [
    "Some of the commonly used libraries used by Data Scientists include:\n",
    "1. Pandas\n",
    "2. NumPy\n",
    "3. Scikit-learn\n",
    "4. Keras"
   ]
  },
  {
   "cell_type": "markdown",
   "id": "e5d4f35b-0eec-4e73-a361-108fbfbad49d",
   "metadata": {},
   "source": [
    "| Data Science Tools |\n",
    "----\n",
    "|Jupyter|\n",
    "|Apache Zeppelin|\n",
    "|RStudio|\n",
    "|Spyder|"
   ]
  },
  {
   "cell_type": "markdown",
   "id": "0de22f66-5b9d-4193-85bc-e4b6620df459",
   "metadata": {},
   "source": [
    "### Below are a few examples of evaluating arithmetic expressions in Python."
   ]
  },
  {
   "cell_type": "code",
   "execution_count": 8,
   "id": "b2449e6f-9dc8-405d-abeb-fd73a567c5ee",
   "metadata": {
    "tags": []
   },
   "outputs": [
    {
     "data": {
      "text/plain": [
       "17"
      ]
     },
     "execution_count": 8,
     "metadata": {},
     "output_type": "execute_result"
    }
   ],
   "source": [
    "#This a simple arithmetic expression to mutiply then add integers\n",
    "(3*4)+5"
   ]
  },
  {
   "cell_type": "code",
   "execution_count": 9,
   "id": "bb9ac5ad-153c-4b57-934c-32b2c5dc98b3",
   "metadata": {
    "tags": []
   },
   "outputs": [
    {
     "data": {
      "text/plain": [
       "3.3333333333333335"
      ]
     },
     "execution_count": 9,
     "metadata": {},
     "output_type": "execute_result"
    }
   ],
   "source": [
    "#This will convert 200 minutes to hours by diving by 60\n",
    "200 / 60"
   ]
  },
  {
   "cell_type": "markdown",
   "id": "c6a100c7-919d-475d-bcb1-cba8e8d2f328",
   "metadata": {},
   "source": [
    "## Author\n",
    "Matthew Robinson"
   ]
  }
 ],
 "metadata": {
  "kernelspec": {
   "display_name": "Python 3 (ipykernel)",
   "language": "python",
   "name": "python3"
  },
  "language_info": {
   "codemirror_mode": {
    "name": "ipython",
    "version": 3
   },
   "file_extension": ".py",
   "mimetype": "text/x-python",
   "name": "python",
   "nbconvert_exporter": "python",
   "pygments_lexer": "ipython3",
   "version": "3.11.5"
  }
 },
 "nbformat": 4,
 "nbformat_minor": 5
}
